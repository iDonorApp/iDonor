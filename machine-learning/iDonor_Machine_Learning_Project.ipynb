{
  "nbformat": 4,
  "nbformat_minor": 0,
  "metadata": {
    "colab": {
      "provenance": []
    },
    "kernelspec": {
      "name": "python3",
      "display_name": "Python 3"
    },
    "language_info": {
      "name": "python"
    }
  },
  "cells": [
    {
      "cell_type": "code",
      "execution_count": 10,
      "metadata": {
        "colab": {
          "base_uri": "https://localhost:8080/"
        },
        "id": "OfrJzJR1BefQ",
        "outputId": "e90c46b3-b86e-4c55-ac3a-bf6774265528"
      },
      "outputs": [
        {
          "output_type": "stream",
          "name": "stdout",
          "text": [
            "Epoch 1/50\n"
          ]
        },
        {
          "output_type": "stream",
          "name": "stderr",
          "text": [
            "WARNING:tensorflow:Gradients do not exist for variables ['embedding_1/embeddings:0', 'dense_3/kernel:0', 'dense_3/bias:0', 'dense_4/bias:0', 'dense_5/kernel:0', 'dense_5/bias:0'] when minimizing the loss. If you're using `model.compile()`, did you forget to provide a `loss` argument?\n",
            "WARNING:tensorflow:Gradients do not exist for variables ['embedding_1/embeddings:0', 'dense_3/kernel:0', 'dense_3/bias:0', 'dense_4/bias:0', 'dense_5/kernel:0', 'dense_5/bias:0'] when minimizing the loss. If you're using `model.compile()`, did you forget to provide a `loss` argument?\n",
            "WARNING:tensorflow:Gradients do not exist for variables ['embedding_1/embeddings:0', 'dense_3/kernel:0', 'dense_3/bias:0', 'dense_4/bias:0', 'dense_5/kernel:0', 'dense_5/bias:0'] when minimizing the loss. If you're using `model.compile()`, did you forget to provide a `loss` argument?\n",
            "WARNING:tensorflow:Gradients do not exist for variables ['embedding_1/embeddings:0', 'dense_3/kernel:0', 'dense_3/bias:0', 'dense_4/bias:0', 'dense_5/kernel:0', 'dense_5/bias:0'] when minimizing the loss. If you're using `model.compile()`, did you forget to provide a `loss` argument?\n"
          ]
        },
        {
          "output_type": "stream",
          "name": "stdout",
          "text": [
            "8/8 [==============================] - 1s 5ms/step - loss: 0.1438\n",
            "Epoch 2/50\n",
            "8/8 [==============================] - 0s 5ms/step - loss: 0.1357\n",
            "Epoch 3/50\n",
            "8/8 [==============================] - 0s 7ms/step - loss: 0.1279\n",
            "Epoch 4/50\n",
            "8/8 [==============================] - 0s 4ms/step - loss: 0.1205\n",
            "Epoch 5/50\n",
            "8/8 [==============================] - 0s 5ms/step - loss: 0.1135\n",
            "Epoch 6/50\n",
            "8/8 [==============================] - 0s 6ms/step - loss: 0.1068\n",
            "Epoch 7/50\n",
            "8/8 [==============================] - 0s 6ms/step - loss: 0.1005\n",
            "Epoch 8/50\n",
            "8/8 [==============================] - 0s 8ms/step - loss: 0.0946\n",
            "Epoch 9/50\n",
            "8/8 [==============================] - 0s 4ms/step - loss: 0.0890\n",
            "Epoch 10/50\n",
            "8/8 [==============================] - 0s 5ms/step - loss: 0.0837\n",
            "Epoch 11/50\n",
            "8/8 [==============================] - 0s 6ms/step - loss: 0.0787\n",
            "Epoch 12/50\n",
            "8/8 [==============================] - 0s 16ms/step - loss: 0.0740\n",
            "Epoch 13/50\n",
            "8/8 [==============================] - 0s 12ms/step - loss: 0.0695\n",
            "Epoch 14/50\n",
            "8/8 [==============================] - 0s 10ms/step - loss: 0.0653\n",
            "Epoch 15/50\n",
            "8/8 [==============================] - 0s 10ms/step - loss: 0.0613\n",
            "Epoch 16/50\n",
            "8/8 [==============================] - 0s 11ms/step - loss: 0.0575\n",
            "Epoch 17/50\n",
            "8/8 [==============================] - 0s 12ms/step - loss: 0.0540\n",
            "Epoch 18/50\n",
            "8/8 [==============================] - 0s 11ms/step - loss: 0.0506\n",
            "Epoch 19/50\n",
            "8/8 [==============================] - 0s 12ms/step - loss: 0.0475\n",
            "Epoch 20/50\n",
            "8/8 [==============================] - 0s 14ms/step - loss: 0.0445\n",
            "Epoch 21/50\n",
            "8/8 [==============================] - 0s 15ms/step - loss: 0.0417\n",
            "Epoch 22/50\n",
            "8/8 [==============================] - 0s 10ms/step - loss: 0.0391\n",
            "Epoch 23/50\n",
            "8/8 [==============================] - 0s 7ms/step - loss: 0.0366\n",
            "Epoch 24/50\n",
            "8/8 [==============================] - 0s 6ms/step - loss: 0.0342\n",
            "Epoch 25/50\n",
            "8/8 [==============================] - 0s 7ms/step - loss: 0.0320\n",
            "Epoch 26/50\n",
            "8/8 [==============================] - 0s 7ms/step - loss: 0.0299\n",
            "Epoch 27/50\n",
            "8/8 [==============================] - 0s 5ms/step - loss: 0.0280\n",
            "Epoch 28/50\n",
            "8/8 [==============================] - 0s 4ms/step - loss: 0.0262\n",
            "Epoch 29/50\n",
            "8/8 [==============================] - 0s 3ms/step - loss: 0.0244\n",
            "Epoch 30/50\n",
            "8/8 [==============================] - 0s 6ms/step - loss: 0.0228\n",
            "Epoch 31/50\n",
            "8/8 [==============================] - 0s 7ms/step - loss: 0.0213\n",
            "Epoch 32/50\n",
            "8/8 [==============================] - 0s 5ms/step - loss: 0.0198\n",
            "Epoch 33/50\n",
            "8/8 [==============================] - 0s 5ms/step - loss: 0.0185\n",
            "Epoch 34/50\n",
            "8/8 [==============================] - 0s 4ms/step - loss: 0.0172\n",
            "Epoch 35/50\n",
            "8/8 [==============================] - 0s 10ms/step - loss: 0.0161\n",
            "Epoch 36/50\n",
            "8/8 [==============================] - 0s 5ms/step - loss: 0.0150\n",
            "Epoch 37/50\n",
            "8/8 [==============================] - 0s 4ms/step - loss: 0.0139\n",
            "Epoch 38/50\n",
            "8/8 [==============================] - 0s 4ms/step - loss: 0.0129\n",
            "Epoch 39/50\n",
            "8/8 [==============================] - 0s 3ms/step - loss: 0.0120\n",
            "Epoch 40/50\n",
            "8/8 [==============================] - 0s 4ms/step - loss: 0.0112\n",
            "Epoch 41/50\n",
            "8/8 [==============================] - 0s 3ms/step - loss: 0.0104\n",
            "Epoch 42/50\n",
            "8/8 [==============================] - 0s 3ms/step - loss: 0.0096\n",
            "Epoch 43/50\n",
            "8/8 [==============================] - 0s 3ms/step - loss: 0.0089\n",
            "Epoch 44/50\n",
            "8/8 [==============================] - 0s 3ms/step - loss: 0.0083\n",
            "Epoch 45/50\n",
            "8/8 [==============================] - 0s 6ms/step - loss: 0.0077\n",
            "Epoch 46/50\n",
            "8/8 [==============================] - 0s 4ms/step - loss: 0.0071\n",
            "Epoch 47/50\n",
            "8/8 [==============================] - 0s 3ms/step - loss: 0.0066\n",
            "Epoch 48/50\n",
            "8/8 [==============================] - 0s 4ms/step - loss: 0.0061\n",
            "Epoch 49/50\n",
            "8/8 [==============================] - 0s 7ms/step - loss: 0.0057\n",
            "Epoch 50/50\n",
            "8/8 [==============================] - 0s 11ms/step - loss: 0.0052\n",
            "Masukkan golongan darah (A/B/AB/O): A\n",
            "1/1 [==============================] - 0s 146ms/step\n",
            "Usia: 48, Golongan Darah: A\n"
          ]
        }
      ],
      "source": [
        "import tensorflow as tf\n",
        "import numpy as np\n",
        "from tensorflow import keras\n",
        "import pandas as pd\n",
        "\n",
        "# Membaca dataset dari file CSV\n",
        "dataset = pd.read_csv('dataset1.csv')\n",
        "\n",
        "# Mapping golongan darah ke nilai numerik\n",
        "blood_type_mapping = {'A': 0, 'B': 1, 'AB': 2, 'O': 3}\n",
        "\n",
        "# Memfilter dataset berdasarkan mapping golongan darah\n",
        "dataset = dataset[dataset['Golongan_Darah'].isin(blood_type_mapping.keys())]\n",
        "\n",
        "# Membagi dataset menjadi input (golongan darah) dan output (usia)\n",
        "dataset_inputs = dataset['Golongan_Darah'].values\n",
        "dataset_outputs = dataset['Usia'].values.astype(float)\n",
        "\n",
        "# Mengonversi input golongan darah menjadi nilai numerik\n",
        "dataset_inputs_encoded = np.array([blood_type_mapping[blood_type] for blood_type in dataset_inputs])\n",
        "\n",
        "# Membuat model dengan layer sequential\n",
        "model = tf.keras.models.Sequential()\n",
        "model.add(tf.keras.layers.Embedding(input_dim=4, output_dim=8, input_length=1))\n",
        "model.add(tf.keras.layers.Flatten())\n",
        "model.add(tf.keras.layers.Dense(16, activation='relu'))\n",
        "model.add(tf.keras.layers.Dropout(0.2))  # Tambahkan Dropout\n",
        "model.add(tf.keras.layers.Dense(16, activation='relu', kernel_regularizer=tf.keras.regularizers.l2(0.01)))  # Tambahkan Regularisasi L2\n",
        "model.add(tf.keras.layers.Dense(1, activation='linear'))\n",
        "\n",
        "# Mengompilasi model dengan optimizer yang berbeda\n",
        "optimizer = tf.keras.optimizers.Adam(learning_rate=0.001)  # Ubah optimizer menjadi Adam dengan learning rate yang lebih rendah\n",
        "model.compile(optimizer=optimizer)\n",
        "\n",
        "# Melatih model\n",
        "model.fit(dataset_inputs_encoded, dataset_outputs, epochs=50, batch_size=32)  # Ubah batch_size jika diperlukan\n",
        "\n",
        "# Data yang ingin difilter\n",
        "blood_type = input(\"Masukkan golongan darah (A/B/AB/O): \")\n",
        "\n",
        "# Mengonversi input golongan darah menjadi nilai numerik\n",
        "blood_type_encoded = blood_type_mapping.get(blood_type.upper())\n",
        "\n",
        "# Melakukan prediksi untuk filtering\n",
        "predictions = model.predict(np.array([[blood_type_encoded]]))\n",
        "\n",
        "# Mengambil data yang membutuhkan golongan darah\n",
        "filtered_indices = np.where(predictions > 0)[0]\n",
        "filtered_data = dataset.iloc[filtered_indices]\n",
        "\n",
        "# Menampilkan data yang membutuhkan golongan darah\n",
        "for _, data in filtered_data.iterrows():\n",
        "    print(f\"Usia: {data['Usia']}, Golongan Darah: {data['Golongan_Darah']}\")\n"
      ]
    },
    {
      "cell_type": "code",
      "source": [
        "import tensorflow\n",
        "\n",
        "#Save the model to saved_model.pbtxt\n",
        "\n",
        "tensorflow.keras.models.save_model(model,'saved_model.pbtxt')"
      ],
      "metadata": {
        "colab": {
          "base_uri": "https://localhost:8080/"
        },
        "id": "D4F4J5iXBkgk",
        "outputId": "7fa02f97-0515-420a-91e1-d74c48c05526"
      },
      "execution_count": 13,
      "outputs": [
        {
          "output_type": "stream",
          "name": "stderr",
          "text": [
            "WARNING:absl:Found untraced functions such as _update_step_xla while saving (showing 1 of 1). These functions will not be directly callable after loading.\n"
          ]
        }
      ]
    },
    {
      "cell_type": "code",
      "source": [
        "converter = tensorflow.lite.TFLiteConverter.from_keras_model(model=model)"
      ],
      "metadata": {
        "id": "1ULomAhhB1tj"
      },
      "execution_count": 15,
      "outputs": []
    },
    {
      "cell_type": "code",
      "source": [
        "tfmodel = converter.convert()\n",
        "\n",
        "# Save TFLite model into a .tflite file\n",
        "\n",
        "open(\"gege.tflite\",\"wb\").write(tfmodel)"
      ],
      "metadata": {
        "colab": {
          "base_uri": "https://localhost:8080/"
        },
        "id": "yG_bvm8LBqw8",
        "outputId": "21dc4640-ddc3-42c4-e4a7-d8a3c9dc1839"
      },
      "execution_count": 16,
      "outputs": [
        {
          "output_type": "stream",
          "name": "stderr",
          "text": [
            "WARNING:absl:Found untraced functions such as _update_step_xla while saving (showing 1 of 1). These functions will not be directly callable after loading.\n"
          ]
        },
        {
          "output_type": "execute_result",
          "data": {
            "text/plain": [
              "4128"
            ]
          },
          "metadata": {},
          "execution_count": 16
        }
      ]
    }
  ]
}